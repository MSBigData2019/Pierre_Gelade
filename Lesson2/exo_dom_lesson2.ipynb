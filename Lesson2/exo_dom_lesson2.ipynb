{
 "cells": [
  {
   "cell_type": "code",
   "execution_count": 1,
   "metadata": {},
   "outputs": [],
   "source": [
    "# coding: utf-8\n",
    "import requests,re\n",
    "from bs4 import BeautifulSoup\n",
    "import pandas as pd"
   ]
  },
  {
   "cell_type": "code",
   "execution_count": 2,
   "metadata": {},
   "outputs": [],
   "source": [
    "def importSoup(NomEnt):\n",
    "    url = r\"https://www.reuters.com/finance/stocks/financial-highlights/\" + NomEnt\n",
    "    res = requests.get(url)\n",
    "    if res.status_code == 200:\n",
    "        html_doc =  res.text\n",
    "        soup = BeautifulSoup(html_doc,\"html.parser\")\n",
    "    return soup"
   ]
  },
  {
   "cell_type": "code",
   "execution_count": 16,
   "metadata": {},
   "outputs": [],
   "source": [
    "def rechercheChamps(soup,dicValeurs):\n",
    "\n",
    "    text_Targeted = \"Quarter Ending Dec-18\"\n",
    "    dicValeurs[text_Targeted] = soup.find_all(\"tr\",attrs={'class':'stripe'})[0].contents[5].text\n",
    "    \n",
    "    text_Targeted = \"Prix Action\"      \n",
    "    dicValeurs[text_Targeted] = soup.find_all('span', attrs={'style':'font-size: 23px;'})[0].string.strip()\n",
    "    \n",
    "    text_Targeted = \"valueContentPercent\"\n",
    "    dicValeurs[text_Targeted] = soup.find_all(\"span\",attrs={'class':text_Targeted})[0].text.strip()[1:-1]\n",
    "\n",
    "    text_Targeted = \"% Shares Owned:\"\n",
    "    dicValeurs[text_Targeted] = soup.find(\"td\",text = text_Targeted).findNext(\"td\").text\n",
    "                \n",
    "    text_Targeted = \"Dividend Yield\"\n",
    "    dicValeurs[text_Targeted + \" company\"] = soup.find(\"td\",text = text_Targeted).findNext(\"td\").text\n",
    "    dicValeurs[text_Targeted + \" industry\"] = soup.find(\"td\",text = text_Targeted).findNext(\"td\").findNext(\"td\").text\n",
    "    dicValeurs[text_Targeted + \" sector\"] = soup.find(\"td\",text = text_Targeted).findNext(\"td\").findNext(\"td\").findNext(\"td\").text\n",
    "    \n",
    "    return dicValeurs"
   ]
  },
  {
   "cell_type": "code",
   "execution_count": 17,
   "metadata": {},
   "outputs": [],
   "source": [
    "def rechercheUrl(query):\n",
    "    url = \"https://www.reuters.com/finance/stocks/lookup?search=\" + query + \"&searchType=any&sortBy=&dateRange=&comSortBy=marketcap\"\n",
    "    res = requests.get(url)\n",
    "    if res.status_code == 200:\n",
    "        html_doc =  res.text\n",
    "        soup = BeautifulSoup(html_doc,\"html.parser\")\n",
    "        lurl = soup.find_all(\"tr\",attrs={'class':'stripe'})\n",
    "        for ur in lurl:\n",
    "            if re.search(\".PA\",ur.contents[3].text):\n",
    "                return ur.contents[3].text"
   ]
  },
  {
   "cell_type": "code",
   "execution_count": 18,
   "metadata": {},
   "outputs": [
    {
     "name": "stdout",
     "output_type": "stream",
     "text": [
      "{'airbus': {'Quarter Ending Dec-18': '23,493.00', 'Prix Action': '99.01', 'valueContentPercent': '+1.73%', '% Shares Owned:': '43.53%', 'Dividend Yield company': '1.45', 'Dividend Yield industry': '1.34', 'Dividend Yield sector': '1.64'}, 'LVMH': {'Quarter Ending Dec-18': '13,667.70', 'Prix Action': '264.40', 'valueContentPercent': '+0.94%', '% Shares Owned:': '20.57%', 'Dividend Yield company': '1.92', 'Dividend Yield industry': '1.70', 'Dividend Yield sector': '2.60'}, 'Danone': {'Quarter Ending Dec-18': '6,072.60', 'Prix Action': '64.11', 'valueContentPercent': '+0.28%', '% Shares Owned:': '50.61%', 'Dividend Yield company': '2.49', 'Dividend Yield industry': '2.35', 'Dividend Yield sector': '2.23'}}\n"
     ]
    }
   ],
   "source": [
    "dico={}\n",
    "dicValeurs = {}\n",
    "listEnt = (\"airbus\",\"LVMH\",\"Danone\")\n",
    "\n",
    "for query in listEnt:\n",
    "    del dicValeurs\n",
    "    dicValeurs = {}\n",
    "    NomEnt = rechercheUrl(query)\n",
    "    soup = importSoup(NomEnt)\n",
    "    rechercheChamps(soup,dicValeurs)\n",
    "    dico[query]=dicValeurs\n",
    "    \n",
    "print(dico)"
   ]
  },
  {
   "cell_type": "code",
   "execution_count": null,
   "metadata": {},
   "outputs": [],
   "source": []
  }
 ],
 "metadata": {
  "kernelspec": {
   "display_name": "Python 3",
   "language": "python",
   "name": "python3"
  },
  "language_info": {
   "codemirror_mode": {
    "name": "ipython",
    "version": 3
   },
   "file_extension": ".py",
   "mimetype": "text/x-python",
   "name": "python",
   "nbconvert_exporter": "python",
   "pygments_lexer": "ipython3",
   "version": "3.6.5"
  }
 },
 "nbformat": 4,
 "nbformat_minor": 2
}
